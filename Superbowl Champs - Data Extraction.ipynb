{
 "cells": [
  {
   "cell_type": "markdown",
   "id": "4800498c",
   "metadata": {},
   "source": [
    "# Imports"
   ]
  },
  {
   "cell_type": "code",
   "execution_count": 1,
   "id": "95d0d34a",
   "metadata": {},
   "outputs": [],
   "source": [
    "from bs4 import BeautifulSoup\n",
    "import requests\n",
    "import pandas as pd"
   ]
  },
  {
   "cell_type": "markdown",
   "id": "2fbcb019",
   "metadata": {},
   "source": [
    "# Fetching Wikipedia Page using requests"
   ]
  },
  {
   "cell_type": "code",
   "execution_count": 2,
   "id": "dd96f6b4",
   "metadata": {},
   "outputs": [],
   "source": [
    "url = 'https://en.wikipedia.org/wiki/List_of_Super_Bowl_champions'\n",
    "response = requests.get(url)"
   ]
  },
  {
   "cell_type": "markdown",
   "id": "f567d6f0",
   "metadata": {},
   "source": [
    "# Beautiful Soup object"
   ]
  },
  {
   "cell_type": "code",
   "execution_count": 3,
   "id": "176bdb79",
   "metadata": {},
   "outputs": [],
   "source": [
    "soup = BeautifulSoup(response.text, 'lxml')"
   ]
  },
  {
   "cell_type": "markdown",
   "id": "a8f95004",
   "metadata": {},
   "source": [
    "# Getting Superbowl Championships table "
   ]
  },
  {
   "cell_type": "code",
   "execution_count": 4,
   "id": "1e635c09",
   "metadata": {},
   "outputs": [],
   "source": [
    "tables = soup.find_all('table')\n",
    "\n",
    "req_table_pos = 0\n",
    "for i in range(len(tables)):\n",
    "    info = tables[i].contents\n",
    "    for j in range(len(info)):\n",
    "        if \"<class 'bs4.element.Tag'>\" in str(type(tables[i].contents[j])):\n",
    "            try:\n",
    "                if 'Super Bowl championships' in tables[i].contents[j].text:\n",
    "                    req_table_pos = i\n",
    "            except:\n",
    "                continue\n",
    "                \n",
    "superbowl_table = tables[req_table_pos]"
   ]
  },
  {
   "cell_type": "code",
   "execution_count": 5,
   "id": "b275aef1",
   "metadata": {},
   "outputs": [],
   "source": [
    "table_rows = superbowl_table.find('tbody').find_all('tr')"
   ]
  },
  {
   "cell_type": "markdown",
   "id": "d950f490",
   "metadata": {},
   "source": [
    "# Parsing each table row"
   ]
  },
  {
   "cell_type": "code",
   "execution_count": 6,
   "id": "255f53c3",
   "metadata": {},
   "outputs": [],
   "source": [
    "file = open('rows.txt', 'w', encoding='utf-8')\n",
    "\n",
    "for row in table_rows:\n",
    "    line = ''\n",
    "    \n",
    "    # looping through each column in a row\n",
    "    for index, item in enumerate(row.find_all('td')):\n",
    "        if index in [0,1,2,3,4,5]:    # considering only required output columns\n",
    "            # process each column corresponding to index nos.\n",
    "            if index == 0:\n",
    "                line += item.find('a').text.strip() + '|'\n",
    "            elif index == 1:\n",
    "                line += item.find('span').text.strip().split(', ')[1] + '|'    # split on ',' to only get year\n",
    "            elif index == 2:\n",
    "                line += item.find('a').text.strip() + '$'    # added '$' for future processing\n",
    "                # last few rows in table are future games so 'small' tag is absent for these rows\n",
    "                try:\n",
    "                    line += item.find('small').text.strip() + '|'\n",
    "                # break out of the loop since we don't want to consider games that are not played yet\n",
    "                except:\n",
    "                    break                    \n",
    "            elif index == 4:\n",
    "                line += item.find('a').text.strip() + '$'   \n",
    "                line += item.find('small').text.strip() + '|'\n",
    "            elif index == 5:\n",
    "                line += item.find('span').text.strip().split('[')[0]    # split on '[' to avoid reding references part \n",
    "            else:    # handles case when index=3\n",
    "                line += item.text.strip() + '|'\n",
    "    \n",
    "    # logic to avoid considering rows for future games that haven't been played yet\n",
    "    if line.count('|') == 5:\n",
    "        file.write(line+'\\n')    # write to csv file\n",
    "        \n",
    "file.close()    "
   ]
  },
  {
   "cell_type": "markdown",
   "id": "fe646d30",
   "metadata": {},
   "source": [
    "# Create DataFrame from rows.csv"
   ]
  },
  {
   "cell_type": "code",
   "execution_count": 7,
   "id": "ba3cf7d7",
   "metadata": {},
   "outputs": [],
   "source": [
    "df = pd.read_csv('rows.txt', names=['Game','Year','Winning team','Score','Losing team','Venue'],sep='|')"
   ]
  },
  {
   "cell_type": "code",
   "execution_count": 8,
   "id": "8f7874cc",
   "metadata": {},
   "outputs": [
    {
     "data": {
      "text/html": [
       "<div>\n",
       "<style scoped>\n",
       "    .dataframe tbody tr th:only-of-type {\n",
       "        vertical-align: middle;\n",
       "    }\n",
       "\n",
       "    .dataframe tbody tr th {\n",
       "        vertical-align: top;\n",
       "    }\n",
       "\n",
       "    .dataframe thead th {\n",
       "        text-align: right;\n",
       "    }\n",
       "</style>\n",
       "<table border=\"1\" class=\"dataframe\">\n",
       "  <thead>\n",
       "    <tr style=\"text-align: right;\">\n",
       "      <th></th>\n",
       "      <th>Game</th>\n",
       "      <th>Year</th>\n",
       "      <th>Winning team</th>\n",
       "      <th>Score</th>\n",
       "      <th>Losing team</th>\n",
       "      <th>Venue</th>\n",
       "    </tr>\n",
       "  </thead>\n",
       "  <tbody>\n",
       "    <tr>\n",
       "      <th>0</th>\n",
       "      <td>I</td>\n",
       "      <td>1967</td>\n",
       "      <td>Green Bay Packers$(1, 1–0)</td>\n",
       "      <td>35–10</td>\n",
       "      <td>Kansas City Chiefs$(1, 0–1)</td>\n",
       "      <td>Los Angeles Memorial Coliseum</td>\n",
       "    </tr>\n",
       "    <tr>\n",
       "      <th>1</th>\n",
       "      <td>II</td>\n",
       "      <td>1968</td>\n",
       "      <td>Green Bay Packers$(2, 2–0)</td>\n",
       "      <td>33–14</td>\n",
       "      <td>Oakland Raiders$(1, 0–1)</td>\n",
       "      <td>Miami Orange Bowl</td>\n",
       "    </tr>\n",
       "    <tr>\n",
       "      <th>2</th>\n",
       "      <td>III</td>\n",
       "      <td>1969</td>\n",
       "      <td>New York Jets$(1, 1–0)</td>\n",
       "      <td>16–7</td>\n",
       "      <td>Baltimore Colts$(1, 0–1)</td>\n",
       "      <td>Miami Orange Bowl (2)</td>\n",
       "    </tr>\n",
       "    <tr>\n",
       "      <th>3</th>\n",
       "      <td>IV</td>\n",
       "      <td>1970</td>\n",
       "      <td>Kansas City Chiefs$(2, 1–1)</td>\n",
       "      <td>23–7</td>\n",
       "      <td>Minnesota Vikings$(1, 0–1)</td>\n",
       "      <td>Tulane Stadium</td>\n",
       "    </tr>\n",
       "    <tr>\n",
       "      <th>4</th>\n",
       "      <td>V</td>\n",
       "      <td>1971</td>\n",
       "      <td>Baltimore Colts$(2, 1–1)</td>\n",
       "      <td>16–13</td>\n",
       "      <td>Dallas Cowboys$(1, 0–1)</td>\n",
       "      <td>Miami Orange Bowl (3)</td>\n",
       "    </tr>\n",
       "  </tbody>\n",
       "</table>\n",
       "</div>"
      ],
      "text/plain": [
       "  Game  Year                 Winning team  Score                  Losing team  \\\n",
       "0    I  1967   Green Bay Packers$(1, 1–0)  35–10  Kansas City Chiefs$(1, 0–1)   \n",
       "1   II  1968   Green Bay Packers$(2, 2–0)  33–14     Oakland Raiders$(1, 0–1)   \n",
       "2  III  1969       New York Jets$(1, 1–0)   16–7     Baltimore Colts$(1, 0–1)   \n",
       "3   IV  1970  Kansas City Chiefs$(2, 1–1)   23–7   Minnesota Vikings$(1, 0–1)   \n",
       "4    V  1971     Baltimore Colts$(2, 1–1)  16–13      Dallas Cowboys$(1, 0–1)   \n",
       "\n",
       "                           Venue  \n",
       "0  Los Angeles Memorial Coliseum  \n",
       "1              Miami Orange Bowl  \n",
       "2          Miami Orange Bowl (2)  \n",
       "3                 Tulane Stadium  \n",
       "4          Miami Orange Bowl (3)  "
      ]
     },
     "execution_count": 8,
     "metadata": {},
     "output_type": "execute_result"
    }
   ],
   "source": [
    "df.head()"
   ]
  },
  {
   "cell_type": "markdown",
   "id": "ff7266aa",
   "metadata": {},
   "source": [
    "# Process team and venue columns to get desired output format"
   ]
  },
  {
   "cell_type": "code",
   "execution_count": 9,
   "id": "b76f8813",
   "metadata": {},
   "outputs": [],
   "source": [
    "def parse_team(s):\n",
    "    a = s.split('$')\n",
    "    s_1 = a[0]\n",
    "    s_2 = a[1]\n",
    "    \n",
    "    return s_1 + ' ' + s_2[1].zfill(2)"
   ]
  },
  {
   "cell_type": "code",
   "execution_count": 10,
   "id": "69b4e6c9",
   "metadata": {},
   "outputs": [],
   "source": [
    "def parse_venue(s):\n",
    "    a = s.split('(')\n",
    "    s_1 = a[0]\n",
    "    try:\n",
    "        s_2 = a[1]\n",
    "        return s_1 + s_2[0].zfill(2)\n",
    "    except:\n",
    "        return s_1 + ' ' + '01'"
   ]
  },
  {
   "cell_type": "code",
   "execution_count": 11,
   "id": "5ffb7d8e",
   "metadata": {},
   "outputs": [],
   "source": [
    "df['Winning team'] = df['Winning team'].apply(parse_team)\n",
    "df['Losing team'] = df['Losing team'].apply(parse_team)\n",
    "df['Venue'] = df['Venue'].apply(parse_venue)"
   ]
  },
  {
   "cell_type": "code",
   "execution_count": 12,
   "id": "93a4606e",
   "metadata": {},
   "outputs": [
    {
     "data": {
      "text/html": [
       "<div>\n",
       "<style scoped>\n",
       "    .dataframe tbody tr th:only-of-type {\n",
       "        vertical-align: middle;\n",
       "    }\n",
       "\n",
       "    .dataframe tbody tr th {\n",
       "        vertical-align: top;\n",
       "    }\n",
       "\n",
       "    .dataframe thead th {\n",
       "        text-align: right;\n",
       "    }\n",
       "</style>\n",
       "<table border=\"1\" class=\"dataframe\">\n",
       "  <thead>\n",
       "    <tr style=\"text-align: right;\">\n",
       "      <th></th>\n",
       "      <th>Game</th>\n",
       "      <th>Year</th>\n",
       "      <th>Winning team</th>\n",
       "      <th>Score</th>\n",
       "      <th>Losing team</th>\n",
       "      <th>Venue</th>\n",
       "    </tr>\n",
       "  </thead>\n",
       "  <tbody>\n",
       "    <tr>\n",
       "      <th>0</th>\n",
       "      <td>I</td>\n",
       "      <td>1967</td>\n",
       "      <td>Green Bay Packers 01</td>\n",
       "      <td>35–10</td>\n",
       "      <td>Kansas City Chiefs 01</td>\n",
       "      <td>Los Angeles Memorial Coliseum 01</td>\n",
       "    </tr>\n",
       "    <tr>\n",
       "      <th>1</th>\n",
       "      <td>II</td>\n",
       "      <td>1968</td>\n",
       "      <td>Green Bay Packers 02</td>\n",
       "      <td>33–14</td>\n",
       "      <td>Oakland Raiders 01</td>\n",
       "      <td>Miami Orange Bowl 01</td>\n",
       "    </tr>\n",
       "    <tr>\n",
       "      <th>2</th>\n",
       "      <td>III</td>\n",
       "      <td>1969</td>\n",
       "      <td>New York Jets 01</td>\n",
       "      <td>16–7</td>\n",
       "      <td>Baltimore Colts 01</td>\n",
       "      <td>Miami Orange Bowl 02</td>\n",
       "    </tr>\n",
       "    <tr>\n",
       "      <th>3</th>\n",
       "      <td>IV</td>\n",
       "      <td>1970</td>\n",
       "      <td>Kansas City Chiefs 02</td>\n",
       "      <td>23–7</td>\n",
       "      <td>Minnesota Vikings 01</td>\n",
       "      <td>Tulane Stadium 01</td>\n",
       "    </tr>\n",
       "    <tr>\n",
       "      <th>4</th>\n",
       "      <td>V</td>\n",
       "      <td>1971</td>\n",
       "      <td>Baltimore Colts 02</td>\n",
       "      <td>16–13</td>\n",
       "      <td>Dallas Cowboys 01</td>\n",
       "      <td>Miami Orange Bowl 03</td>\n",
       "    </tr>\n",
       "  </tbody>\n",
       "</table>\n",
       "</div>"
      ],
      "text/plain": [
       "  Game  Year           Winning team  Score            Losing team  \\\n",
       "0    I  1967   Green Bay Packers 01  35–10  Kansas City Chiefs 01   \n",
       "1   II  1968   Green Bay Packers 02  33–14     Oakland Raiders 01   \n",
       "2  III  1969       New York Jets 01   16–7     Baltimore Colts 01   \n",
       "3   IV  1970  Kansas City Chiefs 02   23–7   Minnesota Vikings 01   \n",
       "4    V  1971     Baltimore Colts 02  16–13      Dallas Cowboys 01   \n",
       "\n",
       "                              Venue  \n",
       "0  Los Angeles Memorial Coliseum 01  \n",
       "1              Miami Orange Bowl 01  \n",
       "2              Miami Orange Bowl 02  \n",
       "3                 Tulane Stadium 01  \n",
       "4              Miami Orange Bowl 03  "
      ]
     },
     "execution_count": 12,
     "metadata": {},
     "output_type": "execute_result"
    }
   ],
   "source": [
    "df.head()"
   ]
  },
  {
   "cell_type": "markdown",
   "id": "8b1ef2f4",
   "metadata": {},
   "source": [
    "# Write final results to transformed.csv"
   ]
  },
  {
   "cell_type": "code",
   "execution_count": 13,
   "id": "5d1124d6",
   "metadata": {},
   "outputs": [],
   "source": [
    "df.to_csv('transformed.csv', index=False)"
   ]
  },
  {
   "cell_type": "code",
   "execution_count": null,
   "id": "e6f5db07",
   "metadata": {},
   "outputs": [],
   "source": []
  }
 ],
 "metadata": {
  "kernelspec": {
   "display_name": "Python 3",
   "language": "python",
   "name": "python3"
  },
  "language_info": {
   "codemirror_mode": {
    "name": "ipython",
    "version": 3
   },
   "file_extension": ".py",
   "mimetype": "text/x-python",
   "name": "python",
   "nbconvert_exporter": "python",
   "pygments_lexer": "ipython3",
   "version": "3.8.8"
  }
 },
 "nbformat": 4,
 "nbformat_minor": 5
}
