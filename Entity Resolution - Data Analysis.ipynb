{
 "cells": [
  {
   "cell_type": "markdown",
   "id": "2eb103e7",
   "metadata": {},
   "source": [
    "## Getting count of distinct courses "
   ]
  },
  {
   "cell_type": "code",
   "execution_count": 1,
   "id": "6a68dcf5",
   "metadata": {},
   "outputs": [],
   "source": [
    "# Reading all courses from cleaned.txt into a set (to get unique courses)\n",
    "\n",
    "all_courses_set = set()\n",
    "\n",
    "file = open('cleaned.txt','r')\n",
    "\n",
    "for line in file:\n",
    "    x = line.split(' - ', 1)\n",
    "    for course in x[1].split('|'):\n",
    "        \n",
    "        # remove '/n' characters if present\n",
    "        course = course.strip()\n",
    "        \n",
    "        # do some cleaning; replace '&' with 'and' and 'ii' with '2' for uniformity\n",
    "        if '&' in course:\n",
    "            course = course.replace('&', 'and')\n",
    "        if ' ii' in course:\n",
    "            course = course.replace(' ii', ' 2')\n",
    "        all_courses_set.add(course)\n",
    "\n",
    "file.close()"
   ]
  },
  {
   "cell_type": "code",
   "execution_count": 2,
   "id": "b0224243",
   "metadata": {},
   "outputs": [
    {
     "data": {
      "text/plain": [
       "171"
      ]
     },
     "execution_count": 2,
     "metadata": {},
     "output_type": "execute_result"
    }
   ],
   "source": [
    "# length of set before similar courses/ courses differentiated by just a spell error are combined\n",
    "\n",
    "len(all_courses_set)"
   ]
  },
  {
   "cell_type": "code",
   "execution_count": 3,
   "id": "d6916ca4",
   "metadata": {},
   "outputs": [],
   "source": [
    "# convert to list and sort to get alphabetically ordered courses\n",
    "\n",
    "all_courses_list = list(all_courses_set)\n",
    "all_courses_list.sort()"
   ]
  },
  {
   "cell_type": "code",
   "execution_count": 4,
   "id": "a3e477c9",
   "metadata": {},
   "outputs": [],
   "source": [
    "# function to get similarity metric between two words\n",
    "\n",
    "def word_similarity(w1, w2):\n",
    "    l1 = list(w1)\n",
    "    l2 = list(w2)    \n",
    "    \n",
    "    comparison_count = len(l1) if len(l1) < len(l2) else len(l2)\n",
    "    common = 0\n",
    "    \n",
    "    # compare both words letter by letter in same order until the smaller word gets exhausted (comparison_count)\n",
    "    # increment counter for common letters everytime the same letter is encountered in a word\n",
    "    \n",
    "    for i in range(comparison_count):\n",
    "        if l1[i] == l2[i]:\n",
    "            common += 1\n",
    "            \n",
    "    # Calculate similarity from ratio of common letters to no. of checks (comparison_count) made\n",
    "    # Eg. 'Biomaterials' and 'Biomaterialz' will have high similarity since only last letters 's' and 'z' are different\n",
    "    similarity = common/comparison_count\n",
    "    \n",
    "    return similarity"
   ]
  },
  {
   "cell_type": "code",
   "execution_count": 5,
   "id": "28fe3c85",
   "metadata": {},
   "outputs": [],
   "source": [
    "# Determining courses that are same but differentiated by minor spelling error and that need to be considered only once in \n",
    "# final distinct courses set\n",
    "\n",
    "# keep a track of courses (course index positions) in all_courses_list that already have a match (high similarity) with one\n",
    "# of the preceding courses in the same list\n",
    "skip_course_pos = []   \n",
    "\n",
    "# add final distinct set of courses to this set\n",
    "all_courses_distinct = set()\n",
    "\n",
    "# compare each ith course in all_courses_list to (i+1)th course (till nth course) in the same list\n",
    "for i in range(len(all_courses_list)):\n",
    "    \n",
    "    # if course already has a match (high similarity) in the list then skip that course and move to next one (continue keyword)\n",
    "    if i in skip_course_pos:\n",
    "        continue\n",
    "    \n",
    "    for j in range(i+1, len(all_courses_list)):\n",
    "        \n",
    "        # check if first letter of courses to be compared is equal, only then compare, else don't (course list is  \n",
    "        # alphabetically sorted). This saves from a lot of unnecessary comparisons. Eg. 'Algorithms and big data'  \n",
    "        # will be compared with 'Analytical geometry'and not with 'Temporalities'\n",
    "        if all_courses_list[i][0] == all_courses_list[j][0]:    \n",
    "            l1 = all_courses_list[i].split()\n",
    "            l2 = all_courses_list[j].split()\n",
    "            \n",
    "            # check if course strings are equal in length since same courses will have equal no. of words\n",
    "            if len(l1) == len(l2):    \n",
    "                count = 0\n",
    "                for k in range(len(l1)):\n",
    "                    if word_similarity(l1[k], l2[k]) >= 0.7:    # calculate jaccard distance for each corresponding word\n",
    "                        count += 1\n",
    "                        if count == len(l1):    # reached the end of course string and all words are >=0.7 jaccard matches\n",
    "                            skip_course_pos.append(j)    # add course index to list of i's to be skipped\n",
    "                        continue\n",
    "                    else:\n",
    "                        break\n",
    "\n",
    "            else:\n",
    "                continue    # course string not equal length then move on to the next j\n",
    "        else: \n",
    "            break    \n",
    "            # implies that current i doesn't have any similar course in list since it doesn't have another first letter match\n",
    "        \n",
    "    # add course to distinct set if it matches no other preceding courses in list\n",
    "    all_courses_distinct.add(all_courses_list[i]) "
   ]
  },
  {
   "cell_type": "code",
   "execution_count": 6,
   "id": "9a25101f",
   "metadata": {},
   "outputs": [
    {
     "name": "stdout",
     "output_type": "stream",
     "text": [
      "The dataset contains 156 distint courses\n"
     ]
    }
   ],
   "source": [
    "print(f'The dataset contains {len(all_courses_distinct)} distint courses')"
   ]
  },
  {
   "cell_type": "code",
   "execution_count": null,
   "id": "49d85d76",
   "metadata": {},
   "outputs": [],
   "source": []
  },
  {
   "cell_type": "markdown",
   "id": "1b5df261",
   "metadata": {},
   "source": [
    "## Get all courses (in alphabetical order) taught by Professor x in comma-separated form"
   ]
  },
  {
   "cell_type": "code",
   "execution_count": 7,
   "id": "598daa79",
   "metadata": {},
   "outputs": [],
   "source": [
    "# Reading cleaned.txt file and storing contents in a prof_catalog dictionary\n",
    "\n",
    "prof_catalog = dict()\n",
    "\n",
    "file = open('cleaned.txt','r')\n",
    "\n",
    "for line in file:\n",
    "    x = line.split(' - ', 1)\n",
    "    prof_catalog[x[0]] = x[1].strip().split('|')\n",
    "\n",
    "file.close()"
   ]
  },
  {
   "cell_type": "code",
   "execution_count": 8,
   "id": "15f7cbb0",
   "metadata": {},
   "outputs": [],
   "source": [
    "def get_courses_taught_by_prof(prof):\n",
    "    last_name = prof.split(' ')[-1]\n",
    "    value = prof_catalog[last_name.capitalize()]\n",
    "    \n",
    "    course_list = []\n",
    "    for course in value:\n",
    "        course_list.append(course)\n",
    "        \n",
    "    course_list.sort()\n",
    "    \n",
    "    text = ', '.join(course_list)\n",
    "\n",
    "    print(f'Courses taught by Prof. {prof} are: {text}')\n",
    "    "
   ]
  },
  {
   "cell_type": "code",
   "execution_count": 9,
   "id": "6fcce267",
   "metadata": {},
   "outputs": [
    {
     "name": "stdout",
     "output_type": "stream",
     "text": [
      "Courses taught by Prof. Tanya Tafti are: Advanced programming for digital art & literature, Introduction to scientific computing, Managerial decision making, Recent applications of probability & statistics, The design & analysis of trading agents, Topics in data science, Topics in game-theoretic artificial intelligence\n"
     ]
    }
   ],
   "source": [
    "get_courses_taught_by_prof('Tanya Tafti')"
   ]
  },
  {
   "cell_type": "code",
   "execution_count": null,
   "id": "eac51625",
   "metadata": {},
   "outputs": [],
   "source": []
  },
  {
   "cell_type": "markdown",
   "id": "3eef9c7f",
   "metadata": {},
   "source": [
    "## Determining which two professors have the most aligned teaching interests based on course titles"
   ]
  },
  {
   "cell_type": "code",
   "execution_count": 10,
   "id": "82ca3bd0",
   "metadata": {},
   "outputs": [],
   "source": [
    "# function for getting Jaccard distance/ index of two words based on definition of Jaccard index\n",
    "\n",
    "def jaccard_distance(w1,w2):\n",
    "    s1 = set(w1.lower())\n",
    "    s2 = set(w2.lower())\n",
    "    \n",
    "    jaccard_index = len(s1.intersection(s2))/len(s1.union(s2))\n",
    "\n",
    "    return jaccard_index"
   ]
  },
  {
   "cell_type": "code",
   "execution_count": 11,
   "id": "6f5704c8",
   "metadata": {},
   "outputs": [],
   "source": [
    "# function for getting Jaccard value (average of Jaccard indices of words) of two strings\n",
    "\n",
    "def jaccard_of_strings(s1,s2):\n",
    "    l1 = s1.split()\n",
    "    l2 = s2.split()\n",
    "    \n",
    "    loop_size = len(l1) if len(l1)<len(l2) else len(l2)\n",
    "    total_jaccard = 0\n",
    "    \n",
    "    for i in range(loop_size):\n",
    "        total_jaccard += jaccard_distance(l1[i], l2[i])\n",
    "\n",
    "    avg_jacc = total_jaccard/loop_size\n",
    "    \n",
    "    return avg_jacc"
   ]
  },
  {
   "cell_type": "code",
   "execution_count": 12,
   "id": "7c02c342",
   "metadata": {},
   "outputs": [],
   "source": [
    "# get profs teaching at least 5 courses\n",
    "\n",
    "prof_catalog_min_5_courses = dict()\n",
    "\n",
    "for key, value in prof_catalog.items():\n",
    "    if len(value) >= 5:\n",
    "        prof_catalog_min_5_courses[key] = value"
   ]
  },
  {
   "cell_type": "code",
   "execution_count": 13,
   "id": "fe564ffd",
   "metadata": {},
   "outputs": [
    {
     "name": "stdout",
     "output_type": "stream",
     "text": [
      "The professors that have the most aligned teaching interests based on course titles are: \n",
      "Bergerwolf and Lu\n",
      "Bergerwolf and Sauerwald\n",
      "Lu and Sauerwald\n"
     ]
    }
   ],
   "source": [
    "# comparing courses taught by each professor (who teaches at least 5 courses) for getting most aligned profs \n",
    "# who teach similar courses\n",
    "\n",
    "prof_name_list = [key for key in prof_catalog_min_5_courses.keys()]\n",
    "\n",
    "most_aligned = []\n",
    "\n",
    "for i in range(len(prof_name_list)-1):\n",
    "    c_list_1 = prof_catalog_min_5_courses.get(prof_name_list[i])\n",
    "    \n",
    "\n",
    "    for j in range(i+1, len(prof_name_list)):\n",
    "        c_list_2 = prof_catalog_min_5_courses.get(prof_name_list[j])\n",
    "        i_j_max = []\n",
    "\n",
    "        for k in range(len(c_list_1)):    # k no. of courses in i-th list\n",
    "            course_1 = c_list_1[k]\n",
    "            jacc_list = []\n",
    "            \n",
    "            for n in range(len(c_list_2)):    # n no. of courses in j-th list\n",
    "                course_2 = c_list_2[n]\n",
    "                jacc_value = round(jaccard_of_strings(course_1, course_2),2)\n",
    "                jacc_list.append(jacc_value)\n",
    "#                 print(course_1+'--------'+course_2+'---',jacc_value)\n",
    "            # k*n total jaccard values    \n",
    "#             print(jacc_list)\n",
    "            i_j_max.append(max(jacc_list))\n",
    "#             print(prof_name_list[i], prof_name_list[j], max(jacc_list))    \n",
    "            # jacc_list of size k = length of i-th list\n",
    "#         print(prof_name_list[i], prof_name_list[j], i_j_max, np.mean(i_j_max))\n",
    "        \n",
    "        if sum([ele>0.7 for ele in i_j_max]) >= 2:    # at least 2 courses are same between the profs\n",
    "            most_aligned.append((prof_name_list[i], prof_name_list[j]))\n",
    "\n",
    "print('The professors that have the most aligned teaching interests based on course titles are: ')\n",
    "\n",
    "for item in most_aligned:\n",
    "    print(f'{item[0]} and {item[1]}')\n",
    "#         print('------------------')"
   ]
  },
  {
   "cell_type": "code",
   "execution_count": null,
   "id": "744db286",
   "metadata": {},
   "outputs": [],
   "source": []
  }
 ],
 "metadata": {
  "kernelspec": {
   "display_name": "Python 3",
   "language": "python",
   "name": "python3"
  },
  "language_info": {
   "codemirror_mode": {
    "name": "ipython",
    "version": 3
   },
   "file_extension": ".py",
   "mimetype": "text/x-python",
   "name": "python",
   "nbconvert_exporter": "python",
   "pygments_lexer": "ipython3",
   "version": "3.8.8"
  }
 },
 "nbformat": 4,
 "nbformat_minor": 5
}
