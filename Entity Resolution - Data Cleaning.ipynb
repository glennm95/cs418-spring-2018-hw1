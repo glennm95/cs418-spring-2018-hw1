{
 "cells": [
  {
   "cell_type": "markdown",
   "id": "7c86eb8c",
   "metadata": {},
   "source": [
    "## Reading the class.txt file"
   ]
  },
  {
   "cell_type": "code",
   "execution_count": 1,
   "id": "849f6d22",
   "metadata": {},
   "outputs": [],
   "source": [
    "dict_1 = dict()"
   ]
  },
  {
   "cell_type": "code",
   "execution_count": 2,
   "id": "63706171",
   "metadata": {},
   "outputs": [],
   "source": [
    "file = open('class.txt', 'r')\n",
    "\n",
    "for line in file:\n",
    "    # Splitting only on first instance of '-' to separate prof names from courses taught since a line can contain multiple '-'\n",
    "    name_course_split = line.split('-',1)   \n",
    "    \n",
    "    prof_name = name_course_split[0].strip()    # remove leading and trailing white spaces\n",
    "    course_list = name_course_split[1].lstrip().split('|')    # remove leading white spaces\n",
    "\n",
    "    course_list[-1] = course_list[-1].strip()    # remove new-line character from last element in course_list\n",
    "    \n",
    "    dict_1[prof_name] = course_list    # add line to dictionary"
   ]
  },
  {
   "cell_type": "markdown",
   "id": "34dd1fb2",
   "metadata": {},
   "source": [
    "## Handling duplicate prof names in dict_1 and getting only prof's last name\n",
    "\n",
    "The professor's last name is a unique identifier for the name of the professor.\n",
    "\n",
    "Normally, the professor's last name comes after their first name. But when the name is in comma separated form, the first name comes after the last name.\n",
    "\n",
    "Eg: Kshemkalyani, Ajay -> Last name: Kshemkalyani"
   ]
  },
  {
   "cell_type": "code",
   "execution_count": 3,
   "id": "a10c512e",
   "metadata": {},
   "outputs": [],
   "source": [
    "dict_2 = dict()"
   ]
  },
  {
   "cell_type": "code",
   "execution_count": 4,
   "id": "9ab2ea90",
   "metadata": {},
   "outputs": [],
   "source": [
    "for key in dict_1.keys():\n",
    "    # Handle names of format 'last_name, first_name'\n",
    "    if ',' in key:\n",
    "        prof_last_name = key.split(',')[0].lower()\n",
    "\n",
    "\n",
    "    # Handle names of format 'first_name middle_initial. last_name' and 'first_name.last_name'\n",
    "    elif '.' in key:\n",
    "        if (' ') in key:\n",
    "            prof_last_name = key.split(' ')[-1].strip().lower()\n",
    "        else:\n",
    "            prof_last_name = key.split('.')[-1].strip().lower()\n",
    "\n",
    "    # Handle names of format 'first_name last_name' or 'first_name middle_name last_name'\n",
    "    else:\n",
    "        prof_last_name = key.split(' ')[-1].strip().lower()\n",
    "\n",
    "    # Check if prof already exists/ added to dictionary   \n",
    "    # if not then add prof_last_name as key in dict_2 with value as value of corresponding key in dict_1\n",
    "    # else, if already present in dict_2, then extend value list (course list) of key in dict_2 with additional \n",
    "    # value (couse list) from corresponding key in dict_1\n",
    "    if dict_2.get(prof_last_name) == None:\n",
    "        dict_2[prof_last_name] = dict_1[key]\n",
    "    else:\n",
    "        dict_2[prof_last_name].extend(dict_1[key])   "
   ]
  },
  {
   "cell_type": "markdown",
   "id": "0fb0b77f",
   "metadata": {},
   "source": [
    "## Write to cleaned.txt file after processing"
   ]
  },
  {
   "cell_type": "code",
   "execution_count": 5,
   "id": "b099b4d7",
   "metadata": {},
   "outputs": [],
   "source": [
    "# sort prof names\n",
    "prof_names_list = []\n",
    "\n",
    "for key in dict_2.keys():\n",
    "    prof_names_list.append(key)\n",
    "\n",
    "prof_names_list.sort()"
   ]
  },
  {
   "cell_type": "code",
   "execution_count": 6,
   "id": "f6f329e1",
   "metadata": {},
   "outputs": [],
   "source": [
    "file = open('cleaned.txt','w')\n",
    "\n",
    "# write to file; name will be fetched in sorted order since prof_name_list is sorted alphabetically\n",
    "for name in prof_names_list:\n",
    "    line = ''\n",
    "    courses = ''\n",
    "    prof_course_list = dict_2[name]\n",
    "\n",
    "    # Capitalize only first letter of each course and sort courses alphabetically \n",
    "    for i in range(len(prof_course_list)):\n",
    "        prof_course_list[i] = prof_course_list[i].capitalize()\n",
    "    \n",
    "    prof_course_list.sort()\n",
    "    \n",
    "    courses = '|'.join(prof_course_list)\n",
    "        \n",
    "    line += name.capitalize() + ' - ' + courses + '\\n'\n",
    "    \n",
    "    file.write(line)\n",
    "    \n",
    "file.close()"
   ]
  },
  {
   "cell_type": "code",
   "execution_count": null,
   "id": "5e94aea1",
   "metadata": {},
   "outputs": [],
   "source": []
  }
 ],
 "metadata": {
  "kernelspec": {
   "display_name": "Python 3",
   "language": "python",
   "name": "python3"
  },
  "language_info": {
   "codemirror_mode": {
    "name": "ipython",
    "version": 3
   },
   "file_extension": ".py",
   "mimetype": "text/x-python",
   "name": "python",
   "nbconvert_exporter": "python",
   "pygments_lexer": "ipython3",
   "version": "3.8.8"
  }
 },
 "nbformat": 4,
 "nbformat_minor": 5
}
